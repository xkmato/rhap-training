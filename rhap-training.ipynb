{
 "cells": [
  {
   "cell_type": "markdown",
   "id": "5a357a8d",
   "metadata": {},
   "source": [
    "We are interested in getting the state code from # https://api.covidtracking.com/v2/states.json\n",
    "\n",
    "And also state cases from the https://api.covidtracking.com/v2/states/[statecode]/daily.json endpoint\n",
    "\n",
    "- We are only interested in total cases, confirmed cases, probable cases.\n",
    "- We also want date, state as dimensions"
   ]
  },
  {
   "cell_type": "code",
   "execution_count": 4,
   "id": "ae5f94b9",
   "metadata": {},
   "outputs": [],
   "source": [
    "import requests"
   ]
  },
  {
   "cell_type": "code",
   "execution_count": 5,
   "id": "3285d7c1",
   "metadata": {},
   "outputs": [
    {
     "name": "stdout",
     "output_type": "stream",
     "text": [
      "{'name': 'Alaska', 'state_code': 'AK', 'fips': '02', 'sites': [{'url': 'http://dhss.alaska.gov/dph/Epi/id/Pages/COVID-19/monitoring.aspx', 'label': 'primary'}, {'url': 'https://experience.arcgis.com/experience/ed1c874ca60b4c15ab09095a070065ca', 'label': 'secondary'}, {'url': 'https://alaska-dhss.maps.arcgis.com/apps/opsdashboard/index.html#/8782a14ef52342e99f866a3b8a3e624a', 'label': 'tertiary'}, {'url': 'https://services1.arcgis.com/WzFsmainVTuD5KML/arcgis/rest/services/Tests_Dataset/FeatureServer/0/query?where=Test_Result+%3D+%27Negative%27&outStatistics=%5B%7B%27statisticType%27%3A+%27count%27%2C+%27onStatisticField%27%3A+%27FID%27%2C+%27outStatisticFieldName%27%3A+%27tests_negative%27%7D%5D', 'label': 'quaternary'}, {'url': 'https://services1.arcgis.com/WzFsmainVTuD5KML/arcgis/rest/services/Tests_Dataset/FeatureServer/0/query?where=Test_Result+%3D+%27Positive%27&outStatistics=%5B%7B%27statisticType%27%3A+%27count%27%2C+%27onStatisticField%27%3A+%27FID%27%2C+%27outStatisticFieldName%27%3A+%27tests_positive%27%7D%5D', 'label': 'quinary'}], 'census': {'population': 737068}, 'field_sources': {'tests': {'pcr': {'total': 'Total Tests (PCR)'}}}, 'covid_tracking_project': {'preferred_total_test': {'field': 'totalTestsViral', 'units': 'Specimens'}}}\n"
     ]
    }
   ],
   "source": [
    "states = requests.get(\"https://api.covidtracking.com/v2/states.json\").json()\n",
    "\n",
    "state_data = states['data']\n",
    "\n",
    "print(state_data[0])"
   ]
  },
  {
   "cell_type": "code",
   "execution_count": 6,
   "id": "cbeef17c",
   "metadata": {},
   "outputs": [
    {
     "name": "stdout",
     "output_type": "stream",
     "text": [
      "['AK', 'AL', 'AR', 'AS', 'AZ', 'CA', 'CO', 'CT', 'DC', 'DE', 'FL', 'GA', 'GU', 'HI', 'IA', 'ID', 'IL', 'IN', 'KS', 'KY', 'LA', 'MA', 'MD', 'ME', 'MI', 'MN', 'MO', 'MP', 'MS', 'MT', 'NC', 'ND', 'NE', 'NH', 'NJ', 'NM', 'NV', 'NY', 'OH', 'OK', 'OR', 'PA', 'PR', 'RI', 'SC', 'SD', 'TN', 'TX', 'UT', 'VA', 'VI', 'VT', 'WA', 'WI', 'WV', 'WY']\n"
     ]
    }
   ],
   "source": [
    "state_codes = []\n",
    "\n",
    "for state in state_data:\n",
    "    state_codes.append(state['state_code'])\n",
    "    \n",
    "print(state_codes)"
   ]
  },
  {
   "cell_type": "code",
   "execution_count": 7,
   "id": "c405b23b",
   "metadata": {},
   "outputs": [],
   "source": [
    "cases_endpoint = \"https://api.covidtracking.com/v2/states/ca/daily/simple.json\"\n",
    "\n",
    "ca_data = requests.get(cases_endpoint).json()"
   ]
  },
  {
   "cell_type": "code",
   "execution_count": 8,
   "id": "685208fc",
   "metadata": {},
   "outputs": [
    {
     "data": {
      "text/plain": [
       "{'date': '2021-03-07',\n",
       " 'state': 'CA',\n",
       " 'meta': {'data_quality_grade': 'B',\n",
       "  'updated': '2021-03-07T07:59:00Z',\n",
       "  'tests': {'total_source': 'totalTestsViral'}},\n",
       " 'cases': {'total': {'value': 3501394,\n",
       "   'calculated': {'population_percent': 8.9131,\n",
       "    'change_from_prior_day': 3816,\n",
       "    'seven_day_change_percent': 0.7}},\n",
       "  'confirmed': {'value': 3501394,\n",
       "   'calculated': {'population_percent': 8.9131,\n",
       "    'change_from_prior_day': 3816,\n",
       "    'seven_day_change_percent': 0.7,\n",
       "    'seven_day_average': 3489460}},\n",
       "  'probable': {'value': None,\n",
       "   'calculated': {'population_percent': None,\n",
       "    'change_from_prior_day': None,\n",
       "    'seven_day_change_percent': None,\n",
       "    'seven_day_average': None}}},\n",
       " 'tests': {'pcr': {'total': {'value': 49646014,\n",
       "    'calculated': {'population_percent': 126.3788,\n",
       "     'change_from_prior_day': 133186,\n",
       "     'seven_day_change_percent': 2.4}},\n",
       "   'pending': {'value': None,\n",
       "    'calculated': {'population_percent': None,\n",
       "     'change_from_prior_day': None,\n",
       "     'seven_day_change_percent': None,\n",
       "     'seven_day_average': None}},\n",
       "   'encounters': {'total': {'value': None,\n",
       "     'calculated': {'population_percent': None,\n",
       "      'change_from_prior_day': None,\n",
       "      'seven_day_change_percent': None}}},\n",
       "   'specimens': {'total': {'value': 49646014,\n",
       "     'calculated': {'population_percent': 126.3788,\n",
       "      'change_from_prior_day': 133186,\n",
       "      'seven_day_change_percent': 2.4}},\n",
       "    'positive': {'value': None,\n",
       "     'calculated': {'population_percent': None,\n",
       "      'change_from_prior_day': None,\n",
       "      'seven_day_change_percent': None,\n",
       "      'seven_day_average': None}},\n",
       "    'negative': {'value': None,\n",
       "     'calculated': {'population_percent': None,\n",
       "      'change_from_prior_day': None,\n",
       "      'seven_day_change_percent': None,\n",
       "      'seven_day_average': None}}},\n",
       "   'people': {'total': {'value': None,\n",
       "     'calculated': {'population_percent': None,\n",
       "      'change_from_prior_day': None,\n",
       "      'seven_day_change_percent': None}},\n",
       "    'positive': {'value': 3501394,\n",
       "     'calculated': {'population_percent': 8.9131,\n",
       "      'change_from_prior_day': 3816,\n",
       "      'seven_day_change_percent': 0.7}},\n",
       "    'negative': {'value': None,\n",
       "     'calculated': {'population_percent': None,\n",
       "      'change_from_prior_day': None,\n",
       "      'seven_day_change_percent': None,\n",
       "      'seven_day_average': None}}}},\n",
       "  'antibody': {'encounters': {'total': {'value': None,\n",
       "     'calculated': {'population_percent': None,\n",
       "      'change_from_prior_day': None,\n",
       "      'seven_day_change_percent': None}},\n",
       "    'positive': {'value': None,\n",
       "     'calculated': {'population_percent': None,\n",
       "      'change_from_prior_day': None,\n",
       "      'seven_day_change_percent': None,\n",
       "      'seven_day_average': None}},\n",
       "    'negative': {'value': None,\n",
       "     'calculated': {'population_percent': None,\n",
       "      'change_from_prior_day': None,\n",
       "      'seven_day_change_percent': None,\n",
       "      'seven_day_average': None}}},\n",
       "   'people': {'total': {'value': None,\n",
       "     'calculated': {'population_percent': None,\n",
       "      'change_from_prior_day': None,\n",
       "      'seven_day_change_percent': None}},\n",
       "    'positive': {'value': None,\n",
       "     'calculated': {'population_percent': None,\n",
       "      'change_from_prior_day': None,\n",
       "      'seven_day_change_percent': None,\n",
       "      'seven_day_average': None}},\n",
       "    'negative': {'value': None,\n",
       "     'calculated': {'population_percent': None,\n",
       "      'change_from_prior_day': None,\n",
       "      'seven_day_change_percent': None,\n",
       "      'seven_day_average': None}}}},\n",
       "  'antigen': {'encounters': {'total': {'value': None,\n",
       "     'calculated': {'population_percent': None,\n",
       "      'change_from_prior_day': None,\n",
       "      'seven_day_change_percent': None}},\n",
       "    'positive': {'value': None,\n",
       "     'calculated': {'population_percent': None,\n",
       "      'change_from_prior_day': None,\n",
       "      'seven_day_change_percent': None,\n",
       "      'seven_day_average': None}},\n",
       "    'negative': {'value': None,\n",
       "     'calculated': {'population_percent': None,\n",
       "      'change_from_prior_day': None,\n",
       "      'seven_day_change_percent': None,\n",
       "      'seven_day_average': None}}},\n",
       "   'people': {'total': {'value': None,\n",
       "     'calculated': {'population_percent': None,\n",
       "      'change_from_prior_day': None,\n",
       "      'seven_day_change_percent': None}},\n",
       "    'positive': {'value': None,\n",
       "     'calculated': {'population_percent': None,\n",
       "      'change_from_prior_day': None,\n",
       "      'seven_day_change_percent': None,\n",
       "      'seven_day_average': None}},\n",
       "    'negative': {'value': None,\n",
       "     'calculated': {'population_percent': None,\n",
       "      'change_from_prior_day': None,\n",
       "      'seven_day_change_percent': None,\n",
       "      'seven_day_average': None}}}}},\n",
       " 'outcomes': {'recovered': {'value': None,\n",
       "   'calculated': {'population_percent': None,\n",
       "    'change_from_prior_day': None,\n",
       "    'seven_day_change_percent': None,\n",
       "    'seven_day_average': None}},\n",
       "  'hospitalized': {'total': {'value': None},\n",
       "   'currently': {'value': 4291,\n",
       "    'calculated': {'population_percent': 0.0109,\n",
       "     'change_from_prior_day': -222,\n",
       "     'seven_day_change_percent': -24.4,\n",
       "     'seven_day_average': 4901}},\n",
       "   'in_icu': {'total': {'value': None},\n",
       "    'currently': {'value': 1159,\n",
       "     'calculated': {'population_percent': 0.003,\n",
       "      'change_from_prior_day': -62,\n",
       "      'seven_day_change_percent': -26.9,\n",
       "      'seven_day_average': 1331}}},\n",
       "   'on_ventilator': {'total': {'value': None},\n",
       "    'currently': {'value': None,\n",
       "     'calculated': {'population_percent': None,\n",
       "      'change_from_prior_day': None,\n",
       "      'seven_day_change_percent': None,\n",
       "      'seven_day_average': None}}}},\n",
       "  'death': {'total': {'value': 54124,\n",
       "    'calculated': {'population_percent': 0.1378,\n",
       "     'change_from_prior_day': 258,\n",
       "     'seven_day_change_percent': 4.1,\n",
       "     'seven_day_average': 53136}},\n",
       "   'confirmed': {'value': None,\n",
       "    'calculated': {'population_percent': None,\n",
       "     'change_from_prior_day': None,\n",
       "     'seven_day_change_percent': None,\n",
       "     'seven_day_average': None}},\n",
       "   'probable': {'value': None,\n",
       "    'calculated': {'population_percent': None,\n",
       "     'change_from_prior_day': None,\n",
       "     'seven_day_change_percent': None,\n",
       "     'seven_day_average': None}}}}}"
      ]
     },
     "execution_count": 8,
     "metadata": {},
     "output_type": "execute_result"
    }
   ],
   "source": [
    "ca_data['data'][0]"
   ]
  },
  {
   "cell_type": "code",
   "execution_count": 9,
   "id": "14522ac4",
   "metadata": {},
   "outputs": [],
   "source": [
    "import csv"
   ]
  },
  {
   "cell_type": "code",
   "execution_count": 11,
   "id": "0ab0ee0e",
   "metadata": {},
   "outputs": [],
   "source": [
    "def write_state_data_to_csv(state_data, code):\n",
    "    with open(f\"{code}.csv\", \"w\") as csv_file:\n",
    "        fieldnames = ['date', 'state', 'total_cases', 'confirmed_cases', 'probable_cases']\n",
    "        writer = csv.DictWriter(csv_file, fieldnames=fieldnames)\n",
    "        \n",
    "        writer.writeheader()\n",
    "        \n",
    "        for row in state_data:\n",
    "            writer.writerow(\n",
    "                {\"date\": row['date'], \n",
    "                \"state\": row['state'],\n",
    "                \"total_cases\": row[\"cases\"][\"total\"],\n",
    "                \"confirmed_cases\": row[\"cases\"][\"confirmed\"],\n",
    "                \"probable_cases\": row[\"cases\"][\"probable\"]}\n",
    "            )\n",
    "\n",
    "            \n",
    "for code in state_codes[:2]:\n",
    "    states_endpoint = f\"https://api.covidtracking.com/v2/states/{code.lower()}/daily/simple.json\"\n",
    "    state_data = requests.get(states_endpoint).json()\n",
    "    write_state_data_to_csv(state_data['data'], code)"
   ]
  },
  {
   "cell_type": "code",
   "execution_count": null,
   "id": "37d68631",
   "metadata": {},
   "outputs": [],
   "source": []
  }
 ],
 "metadata": {
  "kernelspec": {
   "display_name": "Python 3 (ipykernel)",
   "language": "python",
   "name": "python3"
  },
  "language_info": {
   "codemirror_mode": {
    "name": "ipython",
    "version": 3
   },
   "file_extension": ".py",
   "mimetype": "text/x-python",
   "name": "python",
   "nbconvert_exporter": "python",
   "pygments_lexer": "ipython3",
   "version": "3.10.5"
  }
 },
 "nbformat": 4,
 "nbformat_minor": 5
}
